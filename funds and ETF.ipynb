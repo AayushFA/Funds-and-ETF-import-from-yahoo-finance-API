{
 "cells": [
  {
   "cell_type": "code",
   "execution_count": 2,
   "metadata": {},
   "outputs": [],
   "source": [
    "import pandas as pd\n",
    "import yfinance as yf"
   ]
  },
  {
   "cell_type": "code",
   "execution_count": 6,
   "metadata": {},
   "outputs": [],
   "source": [
    "ticker=\"TLT\"\n",
    "ticker2=\"OMOIX\""
   ]
  },
  {
   "cell_type": "code",
   "execution_count": 9,
   "metadata": {},
   "outputs": [
    {
     "name": "stdout",
     "output_type": "stream",
     "text": [
      "[*********************100%***********************]  1 of 1 completed\n"
     ]
    }
   ],
   "source": [
    "fund=yf.download(ticker,period=\"5y\")"
   ]
  },
  {
   "cell_type": "code",
   "execution_count": 10,
   "metadata": {},
   "outputs": [
    {
     "data": {
      "text/html": [
       "<div>\n",
       "<style scoped>\n",
       "    .dataframe tbody tr th:only-of-type {\n",
       "        vertical-align: middle;\n",
       "    }\n",
       "\n",
       "    .dataframe tbody tr th {\n",
       "        vertical-align: top;\n",
       "    }\n",
       "\n",
       "    .dataframe thead th {\n",
       "        text-align: right;\n",
       "    }\n",
       "</style>\n",
       "<table border=\"1\" class=\"dataframe\">\n",
       "  <thead>\n",
       "    <tr style=\"text-align: right;\">\n",
       "      <th></th>\n",
       "      <th>Open</th>\n",
       "      <th>High</th>\n",
       "      <th>Low</th>\n",
       "      <th>Close</th>\n",
       "      <th>Adj Close</th>\n",
       "      <th>Volume</th>\n",
       "    </tr>\n",
       "    <tr>\n",
       "      <th>Date</th>\n",
       "      <th></th>\n",
       "      <th></th>\n",
       "      <th></th>\n",
       "      <th></th>\n",
       "      <th></th>\n",
       "      <th></th>\n",
       "    </tr>\n",
       "  </thead>\n",
       "  <tbody>\n",
       "    <tr>\n",
       "      <th>2015-12-24</th>\n",
       "      <td>NaN</td>\n",
       "      <td>NaN</td>\n",
       "      <td>NaN</td>\n",
       "      <td>NaN</td>\n",
       "      <td>NaN</td>\n",
       "      <td>NaN</td>\n",
       "    </tr>\n",
       "    <tr>\n",
       "      <th>2015-12-28</th>\n",
       "      <td>121.989998</td>\n",
       "      <td>122.669998</td>\n",
       "      <td>121.849998</td>\n",
       "      <td>122.190002</td>\n",
       "      <td>109.074211</td>\n",
       "      <td>7586600.0</td>\n",
       "    </tr>\n",
       "    <tr>\n",
       "      <th>2015-12-29</th>\n",
       "      <td>121.690002</td>\n",
       "      <td>121.739998</td>\n",
       "      <td>120.010002</td>\n",
       "      <td>120.160004</td>\n",
       "      <td>107.262161</td>\n",
       "      <td>7787500.0</td>\n",
       "    </tr>\n",
       "    <tr>\n",
       "      <th>2015-12-30</th>\n",
       "      <td>119.919998</td>\n",
       "      <td>120.540001</td>\n",
       "      <td>119.669998</td>\n",
       "      <td>120.040001</td>\n",
       "      <td>107.155022</td>\n",
       "      <td>5508900.0</td>\n",
       "    </tr>\n",
       "    <tr>\n",
       "      <th>2015-12-31</th>\n",
       "      <td>120.570000</td>\n",
       "      <td>120.860001</td>\n",
       "      <td>120.250000</td>\n",
       "      <td>120.580002</td>\n",
       "      <td>107.637077</td>\n",
       "      <td>7897700.0</td>\n",
       "    </tr>\n",
       "    <tr>\n",
       "      <th>...</th>\n",
       "      <td>...</td>\n",
       "      <td>...</td>\n",
       "      <td>...</td>\n",
       "      <td>...</td>\n",
       "      <td>...</td>\n",
       "      <td>...</td>\n",
       "    </tr>\n",
       "    <tr>\n",
       "      <th>2020-12-18</th>\n",
       "      <td>157.119995</td>\n",
       "      <td>157.380005</td>\n",
       "      <td>156.179993</td>\n",
       "      <td>156.330002</td>\n",
       "      <td>156.330002</td>\n",
       "      <td>6505000.0</td>\n",
       "    </tr>\n",
       "    <tr>\n",
       "      <th>2020-12-21</th>\n",
       "      <td>157.199997</td>\n",
       "      <td>157.339996</td>\n",
       "      <td>156.449997</td>\n",
       "      <td>156.949997</td>\n",
       "      <td>156.949997</td>\n",
       "      <td>8988200.0</td>\n",
       "    </tr>\n",
       "    <tr>\n",
       "      <th>2020-12-22</th>\n",
       "      <td>157.559998</td>\n",
       "      <td>157.830002</td>\n",
       "      <td>157.080002</td>\n",
       "      <td>157.759995</td>\n",
       "      <td>157.759995</td>\n",
       "      <td>7370800.0</td>\n",
       "    </tr>\n",
       "    <tr>\n",
       "      <th>2020-12-23</th>\n",
       "      <td>156.619995</td>\n",
       "      <td>156.690002</td>\n",
       "      <td>155.460007</td>\n",
       "      <td>156.669998</td>\n",
       "      <td>156.669998</td>\n",
       "      <td>9266600.0</td>\n",
       "    </tr>\n",
       "    <tr>\n",
       "      <th>2020-12-24</th>\n",
       "      <td>156.899994</td>\n",
       "      <td>157.429993</td>\n",
       "      <td>156.850006</td>\n",
       "      <td>157.289993</td>\n",
       "      <td>157.289993</td>\n",
       "      <td>3117100.0</td>\n",
       "    </tr>\n",
       "  </tbody>\n",
       "</table>\n",
       "<p>1260 rows × 6 columns</p>\n",
       "</div>"
      ],
      "text/plain": [
       "                  Open        High         Low       Close   Adj Close  \\\n",
       "Date                                                                     \n",
       "2015-12-24         NaN         NaN         NaN         NaN         NaN   \n",
       "2015-12-28  121.989998  122.669998  121.849998  122.190002  109.074211   \n",
       "2015-12-29  121.690002  121.739998  120.010002  120.160004  107.262161   \n",
       "2015-12-30  119.919998  120.540001  119.669998  120.040001  107.155022   \n",
       "2015-12-31  120.570000  120.860001  120.250000  120.580002  107.637077   \n",
       "...                ...         ...         ...         ...         ...   \n",
       "2020-12-18  157.119995  157.380005  156.179993  156.330002  156.330002   \n",
       "2020-12-21  157.199997  157.339996  156.449997  156.949997  156.949997   \n",
       "2020-12-22  157.559998  157.830002  157.080002  157.759995  157.759995   \n",
       "2020-12-23  156.619995  156.690002  155.460007  156.669998  156.669998   \n",
       "2020-12-24  156.899994  157.429993  156.850006  157.289993  157.289993   \n",
       "\n",
       "               Volume  \n",
       "Date                   \n",
       "2015-12-24        NaN  \n",
       "2015-12-28  7586600.0  \n",
       "2015-12-29  7787500.0  \n",
       "2015-12-30  5508900.0  \n",
       "2015-12-31  7897700.0  \n",
       "...               ...  \n",
       "2020-12-18  6505000.0  \n",
       "2020-12-21  8988200.0  \n",
       "2020-12-22  7370800.0  \n",
       "2020-12-23  9266600.0  \n",
       "2020-12-24  3117100.0  \n",
       "\n",
       "[1260 rows x 6 columns]"
      ]
     },
     "execution_count": 10,
     "metadata": {},
     "output_type": "execute_result"
    }
   ],
   "source": [
    "fund"
   ]
  },
  {
   "cell_type": "code",
   "execution_count": 11,
   "metadata": {},
   "outputs": [
    {
     "name": "stdout",
     "output_type": "stream",
     "text": [
      "[*********************100%***********************]  1 of 1 completed\n"
     ]
    }
   ],
   "source": [
    "fund2=yf.download(ticker2,period=\"5y\")"
   ]
  },
  {
   "cell_type": "code",
   "execution_count": 12,
   "metadata": {},
   "outputs": [
    {
     "data": {
      "text/html": [
       "<div>\n",
       "<style scoped>\n",
       "    .dataframe tbody tr th:only-of-type {\n",
       "        vertical-align: middle;\n",
       "    }\n",
       "\n",
       "    .dataframe tbody tr th {\n",
       "        vertical-align: top;\n",
       "    }\n",
       "\n",
       "    .dataframe thead th {\n",
       "        text-align: right;\n",
       "    }\n",
       "</style>\n",
       "<table border=\"1\" class=\"dataframe\">\n",
       "  <thead>\n",
       "    <tr style=\"text-align: right;\">\n",
       "      <th></th>\n",
       "      <th>Open</th>\n",
       "      <th>High</th>\n",
       "      <th>Low</th>\n",
       "      <th>Close</th>\n",
       "      <th>Adj Close</th>\n",
       "      <th>Volume</th>\n",
       "    </tr>\n",
       "    <tr>\n",
       "      <th>Date</th>\n",
       "      <th></th>\n",
       "      <th></th>\n",
       "      <th></th>\n",
       "      <th></th>\n",
       "      <th></th>\n",
       "      <th></th>\n",
       "    </tr>\n",
       "  </thead>\n",
       "  <tbody>\n",
       "    <tr>\n",
       "      <th>2015-12-28</th>\n",
       "      <td>25.360001</td>\n",
       "      <td>25.360001</td>\n",
       "      <td>25.360001</td>\n",
       "      <td>25.360001</td>\n",
       "      <td>21.180140</td>\n",
       "      <td>0</td>\n",
       "    </tr>\n",
       "    <tr>\n",
       "      <th>2015-12-29</th>\n",
       "      <td>25.400000</td>\n",
       "      <td>25.400000</td>\n",
       "      <td>25.400000</td>\n",
       "      <td>25.400000</td>\n",
       "      <td>21.213547</td>\n",
       "      <td>0</td>\n",
       "    </tr>\n",
       "    <tr>\n",
       "      <th>2015-12-30</th>\n",
       "      <td>25.400000</td>\n",
       "      <td>25.400000</td>\n",
       "      <td>25.400000</td>\n",
       "      <td>25.400000</td>\n",
       "      <td>21.213547</td>\n",
       "      <td>0</td>\n",
       "    </tr>\n",
       "    <tr>\n",
       "      <th>2015-12-31</th>\n",
       "      <td>25.410000</td>\n",
       "      <td>25.410000</td>\n",
       "      <td>25.410000</td>\n",
       "      <td>25.410000</td>\n",
       "      <td>21.221897</td>\n",
       "      <td>0</td>\n",
       "    </tr>\n",
       "    <tr>\n",
       "      <th>2016-01-04</th>\n",
       "      <td>25.480000</td>\n",
       "      <td>25.480000</td>\n",
       "      <td>25.480000</td>\n",
       "      <td>25.480000</td>\n",
       "      <td>21.280361</td>\n",
       "      <td>0</td>\n",
       "    </tr>\n",
       "    <tr>\n",
       "      <th>...</th>\n",
       "      <td>...</td>\n",
       "      <td>...</td>\n",
       "      <td>...</td>\n",
       "      <td>...</td>\n",
       "      <td>...</td>\n",
       "      <td>...</td>\n",
       "    </tr>\n",
       "    <tr>\n",
       "      <th>2020-12-18</th>\n",
       "      <td>25.910000</td>\n",
       "      <td>25.910000</td>\n",
       "      <td>25.910000</td>\n",
       "      <td>25.910000</td>\n",
       "      <td>25.910000</td>\n",
       "      <td>0</td>\n",
       "    </tr>\n",
       "    <tr>\n",
       "      <th>2020-12-21</th>\n",
       "      <td>25.889999</td>\n",
       "      <td>25.889999</td>\n",
       "      <td>25.889999</td>\n",
       "      <td>25.889999</td>\n",
       "      <td>25.889999</td>\n",
       "      <td>0</td>\n",
       "    </tr>\n",
       "    <tr>\n",
       "      <th>2020-12-22</th>\n",
       "      <td>25.860001</td>\n",
       "      <td>25.860001</td>\n",
       "      <td>25.860001</td>\n",
       "      <td>25.860001</td>\n",
       "      <td>25.860001</td>\n",
       "      <td>0</td>\n",
       "    </tr>\n",
       "    <tr>\n",
       "      <th>2020-12-23</th>\n",
       "      <td>25.910000</td>\n",
       "      <td>25.910000</td>\n",
       "      <td>25.910000</td>\n",
       "      <td>25.910000</td>\n",
       "      <td>25.910000</td>\n",
       "      <td>0</td>\n",
       "    </tr>\n",
       "    <tr>\n",
       "      <th>2020-12-24</th>\n",
       "      <td>25.950001</td>\n",
       "      <td>25.950001</td>\n",
       "      <td>25.950001</td>\n",
       "      <td>25.950001</td>\n",
       "      <td>25.950001</td>\n",
       "      <td>0</td>\n",
       "    </tr>\n",
       "  </tbody>\n",
       "</table>\n",
       "<p>1259 rows × 6 columns</p>\n",
       "</div>"
      ],
      "text/plain": [
       "                 Open       High        Low      Close  Adj Close  Volume\n",
       "Date                                                                     \n",
       "2015-12-28  25.360001  25.360001  25.360001  25.360001  21.180140       0\n",
       "2015-12-29  25.400000  25.400000  25.400000  25.400000  21.213547       0\n",
       "2015-12-30  25.400000  25.400000  25.400000  25.400000  21.213547       0\n",
       "2015-12-31  25.410000  25.410000  25.410000  25.410000  21.221897       0\n",
       "2016-01-04  25.480000  25.480000  25.480000  25.480000  21.280361       0\n",
       "...               ...        ...        ...        ...        ...     ...\n",
       "2020-12-18  25.910000  25.910000  25.910000  25.910000  25.910000       0\n",
       "2020-12-21  25.889999  25.889999  25.889999  25.889999  25.889999       0\n",
       "2020-12-22  25.860001  25.860001  25.860001  25.860001  25.860001       0\n",
       "2020-12-23  25.910000  25.910000  25.910000  25.910000  25.910000       0\n",
       "2020-12-24  25.950001  25.950001  25.950001  25.950001  25.950001       0\n",
       "\n",
       "[1259 rows x 6 columns]"
      ]
     },
     "execution_count": 12,
     "metadata": {},
     "output_type": "execute_result"
    }
   ],
   "source": [
    "fund2"
   ]
  },
  {
   "cell_type": "code",
   "execution_count": 13,
   "metadata": {},
   "outputs": [],
   "source": [
    "##importtreasurydata"
   ]
  },
  {
   "cell_type": "code",
   "execution_count": 14,
   "metadata": {},
   "outputs": [],
   "source": [
    "import pandas as pd\n",
    "import yfinance as yf"
   ]
  },
  {
   "cell_type": "code",
   "execution_count": 15,
   "metadata": {},
   "outputs": [],
   "source": [
    "ticker=\"^TNX\"\n",
    "ticker2=\"^FVX\""
   ]
  },
  {
   "cell_type": "code",
   "execution_count": 19,
   "metadata": {},
   "outputs": [
    {
     "name": "stdout",
     "output_type": "stream",
     "text": [
      "[*********************100%***********************]  1 of 1 completed\n"
     ]
    }
   ],
   "source": [
    "etf=yf.download(ticker,period='5Y').Close"
   ]
  },
  {
   "cell_type": "code",
   "execution_count": 20,
   "metadata": {},
   "outputs": [
    {
     "data": {
      "text/plain": [
       "Date\n",
       "2015-12-28    2.225\n",
       "2015-12-29    2.307\n",
       "2015-12-30    2.303\n",
       "2015-12-31    2.269\n",
       "2016-01-04    2.245\n",
       "              ...  \n",
       "2020-12-17    0.930\n",
       "2020-12-18    0.948\n",
       "2020-12-21    0.941\n",
       "2020-12-22    0.918\n",
       "2020-12-23    0.955\n",
       "Name: Close, Length: 1247, dtype: float64"
      ]
     },
     "execution_count": 20,
     "metadata": {},
     "output_type": "execute_result"
    }
   ],
   "source": [
    "etf"
   ]
  },
  {
   "cell_type": "code",
   "execution_count": 21,
   "metadata": {},
   "outputs": [
    {
     "name": "stdout",
     "output_type": "stream",
     "text": [
      "[*********************100%***********************]  1 of 1 completed\n"
     ]
    }
   ],
   "source": [
    "etf2=yf.download(ticker2,period='5Y').Close"
   ]
  },
  {
   "cell_type": "code",
   "execution_count": 22,
   "metadata": {},
   "outputs": [
    {
     "data": {
      "text/plain": [
       "Date\n",
       "2015-12-28    1.716\n",
       "2015-12-29    1.783\n",
       "2015-12-30    1.799\n",
       "2015-12-31    1.758\n",
       "2016-01-04    1.735\n",
       "              ...  \n",
       "2020-12-17    0.377\n",
       "2020-12-18    0.381\n",
       "2020-12-21    0.383\n",
       "2020-12-22    0.364\n",
       "2020-12-23    0.377\n",
       "Name: Close, Length: 1247, dtype: float64"
      ]
     },
     "execution_count": 22,
     "metadata": {},
     "output_type": "execute_result"
    }
   ],
   "source": [
    "etf2"
   ]
  },
  {
   "cell_type": "code",
   "execution_count": 23,
   "metadata": {},
   "outputs": [],
   "source": [
    "import matplotlib as plt"
   ]
  },
  {
   "cell_type": "code",
   "execution_count": 27,
   "metadata": {},
   "outputs": [
    {
     "data": {
      "text/plain": [
       "<matplotlib.axes._subplots.AxesSubplot at 0x212d095b6d0>"
      ]
     },
     "execution_count": 27,
     "metadata": {},
     "output_type": "execute_result"
    },
    {
     "data": {
      "image/png": "[encoded data removed]",
      "text/plain": [
       "<Figure size 432x288 with 1 Axes>"
      ]
     },
     "metadata": {
      "needs_background": "light"
     },
     "output_type": "display_data"
    }
   ],
   "source": [
    "etf2.plot()\n",
    "etf.plot()"
   ]
  },
  {
   "cell_type": "code",
   "execution_count": 28,
   "metadata": {},
   "outputs": [],
   "source": [
    "ticker=[\"^TNX\",\"^FVX\"]"
   ]
  },
  {
   "cell_type": "code",
   "execution_count": 29,
   "metadata": {},
   "outputs": [
    {
     "name": "stdout",
     "output_type": "stream",
     "text": [
      "[*********************100%***********************]  2 of 2 completed\n"
     ]
    }
   ],
   "source": [
    "etf=yf.download(ticker,period='5Y').Close"
   ]
  },
  {
   "cell_type": "code",
   "execution_count": 30,
   "metadata": {},
   "outputs": [
    {
     "data": {
      "text/html": [
       "<div>\n",
       "<style scoped>\n",
       "    .dataframe tbody tr th:only-of-type {\n",
       "        vertical-align: middle;\n",
       "    }\n",
       "\n",
       "    .dataframe tbody tr th {\n",
       "        vertical-align: top;\n",
       "    }\n",
       "\n",
       "    .dataframe thead th {\n",
       "        text-align: right;\n",
       "    }\n",
       "</style>\n",
       "<table border=\"1\" class=\"dataframe\">\n",
       "  <thead>\n",
       "    <tr style=\"text-align: right;\">\n",
       "      <th></th>\n",
       "      <th>^FVX</th>\n",
       "      <th>^TNX</th>\n",
       "    </tr>\n",
       "    <tr>\n",
       "      <th>Date</th>\n",
       "      <th></th>\n",
       "      <th></th>\n",
       "    </tr>\n",
       "  </thead>\n",
       "  <tbody>\n",
       "    <tr>\n",
       "      <th>2015-12-28</th>\n",
       "      <td>1.716</td>\n",
       "      <td>2.225</td>\n",
       "    </tr>\n",
       "    <tr>\n",
       "      <th>2015-12-29</th>\n",
       "      <td>1.783</td>\n",
       "      <td>2.307</td>\n",
       "    </tr>\n",
       "    <tr>\n",
       "      <th>2015-12-30</th>\n",
       "      <td>1.799</td>\n",
       "      <td>2.303</td>\n",
       "    </tr>\n",
       "    <tr>\n",
       "      <th>2015-12-31</th>\n",
       "      <td>1.758</td>\n",
       "      <td>2.269</td>\n",
       "    </tr>\n",
       "    <tr>\n",
       "      <th>2016-01-04</th>\n",
       "      <td>1.735</td>\n",
       "      <td>2.245</td>\n",
       "    </tr>\n",
       "    <tr>\n",
       "      <th>...</th>\n",
       "      <td>...</td>\n",
       "      <td>...</td>\n",
       "    </tr>\n",
       "    <tr>\n",
       "      <th>2020-12-17</th>\n",
       "      <td>0.377</td>\n",
       "      <td>0.930</td>\n",
       "    </tr>\n",
       "    <tr>\n",
       "      <th>2020-12-18</th>\n",
       "      <td>0.381</td>\n",
       "      <td>0.948</td>\n",
       "    </tr>\n",
       "    <tr>\n",
       "      <th>2020-12-21</th>\n",
       "      <td>0.383</td>\n",
       "      <td>0.941</td>\n",
       "    </tr>\n",
       "    <tr>\n",
       "      <th>2020-12-22</th>\n",
       "      <td>0.364</td>\n",
       "      <td>0.918</td>\n",
       "    </tr>\n",
       "    <tr>\n",
       "      <th>2020-12-23</th>\n",
       "      <td>0.377</td>\n",
       "      <td>0.955</td>\n",
       "    </tr>\n",
       "  </tbody>\n",
       "</table>\n",
       "<p>1247 rows × 2 columns</p>\n",
       "</div>"
      ],
      "text/plain": [
       "             ^FVX   ^TNX\n",
       "Date                    \n",
       "2015-12-28  1.716  2.225\n",
       "2015-12-29  1.783  2.307\n",
       "2015-12-30  1.799  2.303\n",
       "2015-12-31  1.758  2.269\n",
       "2016-01-04  1.735  2.245\n",
       "...           ...    ...\n",
       "2020-12-17  0.377  0.930\n",
       "2020-12-18  0.381  0.948\n",
       "2020-12-21  0.383  0.941\n",
       "2020-12-22  0.364  0.918\n",
       "2020-12-23  0.377  0.955\n",
       "\n",
       "[1247 rows x 2 columns]"
      ]
     },
     "execution_count": 30,
     "metadata": {},
     "output_type": "execute_result"
    }
   ],
   "source": [
    "etf"
   ]
  },
  {
   "cell_type": "code",
   "execution_count": 31,
   "metadata": {},
   "outputs": [
    {
     "data": {
      "text/plain": [
       "<matplotlib.axes._subplots.AxesSubplot at 0x212d09cfac0>"
      ]
     },
     "execution_count": 31,
     "metadata": {},
     "output_type": "execute_result"
    },
    {
     "data": {
      "image/png": "[encoded data removed]",
      "text/plain": [
       "<Figure size 432x288 with 1 Axes>"
      ]
     },
     "metadata": {
      "needs_background": "light"
     },
     "output_type": "display_data"
    }
   ],
   "source": [
    "etf.plot()"
   ]
  },
  {
   "cell_type": "code",
   "execution_count": null,
   "metadata": {},
   "outputs": [],
   "source": []
  }
 ],
 "metadata": {
  "kernelspec": {
   "display_name": "Python 3",
   "language": "python",
   "name": "python3"
  },
  "language_info": {
   "codemirror_mode": {
    "name": "ipython",
    "version": 3
   },
   "file_extension": ".py",
   "mimetype": "text/x-python",
   "name": "python",
   "nbconvert_exporter": "python",
   "pygments_lexer": "ipython3",
   "version": "3.8.3"
  }
 },
 "nbformat": 4,
 "nbformat_minor": 4
}
